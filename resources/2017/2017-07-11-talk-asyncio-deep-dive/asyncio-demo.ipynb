{
 "cells": [
  {
   "cell_type": "markdown",
   "metadata": {
    "nbpresent": {
     "id": "53edc198-5ce3-4e04-b09e-1ebc8ad02b59"
    }
   },
   "source": [
    "# asyncio\n",
    "#### the exciting world of concurrent Python coroutines…\n",
    "\n",
    "This notebook is a companion to a [talk on asyncio](https://speakerdeck.com/jacobtomlinson/asyncio-deep-dive).\n",
    "\n",
    "### Install deps"
   ]
  },
  {
   "cell_type": "code",
   "execution_count": null,
   "metadata": {
    "nbpresent": {
     "id": "a9ac9b63-f270-41bc-b183-d3bac3a3a4a2"
    }
   },
   "outputs": [],
   "source": [
    "!conda install aiohttp -y"
   ]
  },
  {
   "cell_type": "markdown",
   "metadata": {},
   "source": [
    "## 1.2 Generators - value = yield"
   ]
  },
  {
   "cell_type": "code",
   "execution_count": null,
   "metadata": {},
   "outputs": [],
   "source": [
    "def jumping_range(up_to):\n",
    "    index = 0\n",
    "    while index < up_to:\n",
    "        jump = yield index\n",
    "        if jump is None:\n",
    "            jump = 1\n",
    "        index += jump\n",
    "\n",
    "if __name__ == '__main__':\n",
    "    iterator = jumping_range(5)\n",
    "    print(next(iterator))        # 0\n",
    "    print(iterator.send(2))      # 2\n",
    "    print(next(iterator))        # 3\n",
    "    print(iterator.send(-1))     # 2\n",
    "    for x in iterator:\n",
    "        print(x)                 # 3, 4"
   ]
  },
  {
   "cell_type": "markdown",
   "metadata": {
    "nbpresent": {
     "id": "9bcd79d1-e97c-416c-9b22-c6ed6df7ac55"
    }
   },
   "source": [
    "## 2.1 coroutines"
   ]
  },
  {
   "cell_type": "code",
   "execution_count": null,
   "metadata": {
    "nbpresent": {
     "id": "c7d4b3d5-2dfe-4c4f-a1c8-57c18c0b1f79"
    }
   },
   "outputs": [],
   "source": [
    "import time\n",
    "\n",
    "def countdown(number, n):\n",
    "    while n > 0:\n",
    "        print('T-minus', n, '({})'.format(number))\n",
    "        time.sleep(1)\n",
    "        n -= 1\n",
    "\n",
    "countdown(\"A\", 2)\n",
    "countdown(\"B\", 3)"
   ]
  },
  {
   "cell_type": "code",
   "execution_count": null,
   "metadata": {
    "nbpresent": {
     "id": "ebe878d8-c4d1-4393-b08c-ec321263b5db"
    }
   },
   "outputs": [],
   "source": [
    "import asyncio\n",
    "\n",
    "@asyncio.coroutine\n",
    "def countdown(number, n):\n",
    "    while n > 0:\n",
    "        print('T-minus', n, '({})'.format(number))\n",
    "        yield from asyncio.sleep(1)\n",
    "        n -= 1\n",
    "\n",
    "loop = asyncio.get_event_loop()\n",
    "tasks = [\n",
    "    asyncio.ensure_future(countdown(\"A\", 2)),\n",
    "    asyncio.ensure_future(countdown(\"B\", 3))]\n",
    "loop.run_until_complete(asyncio.wait(tasks))"
   ]
  },
  {
   "cell_type": "markdown",
   "metadata": {
    "nbpresent": {
     "id": "07e931d7-3061-483d-ab23-f1873d9e6d57"
    }
   },
   "source": [
    "## 4.1.1 aiohttp client"
   ]
  },
  {
   "cell_type": "code",
   "execution_count": null,
   "metadata": {
    "nbpresent": {
     "id": "5edb80f6-b41a-4e83-be8e-2e39ee69c76a"
    }
   },
   "outputs": [],
   "source": [
    "import aiohttp\n",
    "import asyncio\n",
    "import async_timeout\n",
    "\n",
    "async def fetch(session, url):\n",
    "    with async_timeout.timeout(10):\n",
    "        async with session.get(url) as response:\n",
    "            return await response.text()\n",
    "        \n",
    "async def main():\n",
    "    async with aiohttp.ClientSession() as session:\n",
    "        html = await fetch(session, 'http://ipecho.net/plain')\n",
    "        print(html)\n",
    "        \n",
    "loop = asyncio.get_event_loop()\n",
    "loop.run_until_complete(main())"
   ]
  },
  {
   "cell_type": "markdown",
   "metadata": {
    "nbpresent": {
     "id": "fb455985-f5dd-4633-8b30-37bc07658a6e"
    }
   },
   "source": [
    "## 5. run_in_executor - blocking"
   ]
  },
  {
   "cell_type": "code",
   "execution_count": null,
   "metadata": {
    "nbpresent": {
     "id": "0b50545d-1bf9-4aed-baa5-dc458ce5ae3f"
    }
   },
   "outputs": [],
   "source": [
    "import asyncio\n",
    "import time\n",
    "    \n",
    "async def my_blocking_coroutine():\n",
    "    print(\"Blocking started\")\n",
    "    time.sleep(4)\n",
    "    print(\"Blocking done\")\n",
    "    \n",
    "async def my_nonblocking_coroutine():\n",
    "    print(\"Nonblocking started\")\n",
    "    await asyncio.sleep(2)\n",
    "    print(\"Nonblocking done\")\n",
    "    \n",
    "loop = asyncio.get_event_loop()\n",
    "tasks = [\n",
    "    asyncio.ensure_future(my_nonblocking_coroutine()),\n",
    "    asyncio.ensure_future(my_blocking_coroutine())]\n",
    "loop.run_until_complete(asyncio.wait(tasks))"
   ]
  },
  {
   "cell_type": "markdown",
   "metadata": {
    "nbpresent": {
     "id": "754c2d5c-ef28-4ba8-9be1-38e29389be8d"
    }
   },
   "source": [
    "## 5. run_in_executor - nonblocking"
   ]
  },
  {
   "cell_type": "code",
   "execution_count": null,
   "metadata": {
    "nbpresent": {
     "id": "3fc95a38-a226-4e9c-b95f-0f3a991238eb"
    }
   },
   "outputs": [],
   "source": [
    "import asyncio\n",
    "import time\n",
    "    \n",
    "async def my_blocking_coroutine():\n",
    "    print(\"Blocking started\")\n",
    "    await loop.run_in_executor(None, time.sleep, 4)\n",
    "    print(\"Blocking done\")\n",
    "    \n",
    "async def my_nonblocking_coroutine():\n",
    "    print(\"Nonblocking started\")\n",
    "    await asyncio.sleep(2)\n",
    "    print(\"Nonblocking done\")\n",
    "    \n",
    "loop = asyncio.get_event_loop()\n",
    "tasks = [\n",
    "    asyncio.ensure_future(my_nonblocking_coroutine()),\n",
    "    asyncio.ensure_future(my_blocking_coroutine())]\n",
    "loop.run_until_complete(asyncio.wait(tasks))"
   ]
  },
  {
   "cell_type": "code",
   "execution_count": null,
   "metadata": {
    "collapsed": true
   },
   "outputs": [],
   "source": []
  }
 ],
 "metadata": {
  "kernelspec": {
   "display_name": "Python 3",
   "language": "python",
   "name": "python3"
  },
  "language_info": {
   "codemirror_mode": {
    "name": "ipython",
    "version": 3
   },
   "file_extension": ".py",
   "mimetype": "text/x-python",
   "name": "python",
   "nbconvert_exporter": "python",
   "pygments_lexer": "ipython3",
   "version": "3.6.1"
  },
  "nbpresent": {
   "slides": {
    "1b628533-1324-4926-a8b7-29ec28eb6b16": {
     "id": "1b628533-1324-4926-a8b7-29ec28eb6b16",
     "prev": "6fe576d6-0d5d-44b4-8bcc-0957a4e364b8",
     "regions": {
      "08ce12a0-9c07-43b6-b238-a18c122a30f3": {
       "attrs": {
        "height": 0.8,
        "width": 0.8,
        "x": 0.1,
        "y": 0.1
       },
       "content": {
        "cell": "fb455985-f5dd-4633-8b30-37bc07658a6e",
        "part": "whole"
       },
       "id": "08ce12a0-9c07-43b6-b238-a18c122a30f3"
      }
     }
    },
    "2af22698-c8fc-4d7b-a12f-458efb52bac7": {
     "id": "2af22698-c8fc-4d7b-a12f-458efb52bac7",
     "prev": "9b636d22-7c11-4146-a89e-fae6372cbace",
     "regions": {
      "89789af1-173e-47ab-93c2-0fc15062e279": {
       "attrs": {
        "height": 0.8,
        "width": 0.8,
        "x": 0.1,
        "y": 0.1
       },
       "content": {
        "cell": "c7d4b3d5-2dfe-4c4f-a1c8-57c18c0b1f79",
        "part": "whole"
       },
       "id": "89789af1-173e-47ab-93c2-0fc15062e279"
      }
     }
    },
    "36920c2f-7c4a-4ab1-939e-27b129aebd72": {
     "id": "36920c2f-7c4a-4ab1-939e-27b129aebd72",
     "prev": "9e338da5-7ec9-4433-989a-c438d4b4de95",
     "regions": {
      "ce13bfd9-a2ef-457c-b297-bc74e7aa8a0c": {
       "attrs": {
        "height": 0.8,
        "width": 0.8,
        "x": 0.1,
        "y": 0.1
       },
       "content": {
        "cell": "d789e17d-8afe-4649-a424-011eeb0091dd",
        "part": "whole"
       },
       "id": "ce13bfd9-a2ef-457c-b297-bc74e7aa8a0c"
      }
     }
    },
    "420cceee-c7cc-4dde-b77b-4d6bf28ded1e": {
     "id": "420cceee-c7cc-4dde-b77b-4d6bf28ded1e",
     "prev": "e28e273e-2b4e-4040-8db4-26b1d251ccbb",
     "regions": {
      "84f64c6c-514a-4062-90ff-9c5f21a705f1": {
       "attrs": {
        "height": 0.8,
        "width": 0.8,
        "x": 0.1,
        "y": 0.1
       },
       "content": {
        "cell": "754c2d5c-ef28-4ba8-9be1-38e29389be8d",
        "part": "whole"
       },
       "id": "84f64c6c-514a-4062-90ff-9c5f21a705f1"
      }
     }
    },
    "457327e3-4cbc-4b62-8e97-f5a7e4d08f2e": {
     "id": "457327e3-4cbc-4b62-8e97-f5a7e4d08f2e",
     "prev": "f05e4ec9-20a4-44f0-a307-41b30f7fd8f3",
     "regions": {
      "041ec25f-acd6-432f-af9a-145a42a80a91": {
       "attrs": {
        "height": 0.8,
        "width": 0.8,
        "x": 0.1,
        "y": 0.1
       },
       "content": {
        "cell": "a9ac9b63-f270-41bc-b183-d3bac3a3a4a2",
        "part": "whole"
       },
       "id": "041ec25f-acd6-432f-af9a-145a42a80a91"
      }
     }
    },
    "4bc75779-867c-4d38-be25-66a5e88d2988": {
     "id": "4bc75779-867c-4d38-be25-66a5e88d2988",
     "prev": "962c1576-27fe-4996-920d-ff2444629592",
     "regions": {
      "ca4f5462-af1e-407f-8a17-3a83f5425bc3": {
       "attrs": {
        "height": 0.8,
        "width": 0.8,
        "x": 0.1,
        "y": 0.1
       },
       "content": {
        "cell": "07e931d7-3061-483d-ab23-f1873d9e6d57",
        "part": "whole"
       },
       "id": "ca4f5462-af1e-407f-8a17-3a83f5425bc3"
      }
     }
    },
    "6fe576d6-0d5d-44b4-8bcc-0957a4e364b8": {
     "id": "6fe576d6-0d5d-44b4-8bcc-0957a4e364b8",
     "prev": "4bc75779-867c-4d38-be25-66a5e88d2988",
     "regions": {
      "ab082001-b3a1-434a-a5c1-ab8b8c24140e": {
       "attrs": {
        "height": 0.8,
        "width": 0.8,
        "x": 0.1,
        "y": 0.1
       },
       "content": {
        "cell": "5edb80f6-b41a-4e83-be8e-2e39ee69c76a",
        "part": "whole"
       },
       "id": "ab082001-b3a1-434a-a5c1-ab8b8c24140e"
      }
     }
    },
    "962c1576-27fe-4996-920d-ff2444629592": {
     "id": "962c1576-27fe-4996-920d-ff2444629592",
     "prev": "2af22698-c8fc-4d7b-a12f-458efb52bac7",
     "regions": {
      "e139493b-2463-4659-a895-b4d5d1ae7f14": {
       "attrs": {
        "height": 0.8,
        "width": 0.8,
        "x": 0.1,
        "y": 0.1
       },
       "content": {
        "cell": "ebe878d8-c4d1-4393-b08c-ec321263b5db",
        "part": "whole"
       },
       "id": "e139493b-2463-4659-a895-b4d5d1ae7f14"
      }
     }
    },
    "9b636d22-7c11-4146-a89e-fae6372cbace": {
     "id": "9b636d22-7c11-4146-a89e-fae6372cbace",
     "prev": "457327e3-4cbc-4b62-8e97-f5a7e4d08f2e",
     "regions": {
      "42c2853a-f4ac-42c6-8a9a-d76dcca37c95": {
       "attrs": {
        "height": 0.8,
        "width": 0.8,
        "x": 0.1,
        "y": 0.1
       },
       "content": {
        "cell": "9bcd79d1-e97c-416c-9b22-c6ed6df7ac55",
        "part": "whole"
       },
       "id": "42c2853a-f4ac-42c6-8a9a-d76dcca37c95"
      }
     }
    },
    "9e338da5-7ec9-4433-989a-c438d4b4de95": {
     "id": "9e338da5-7ec9-4433-989a-c438d4b4de95",
     "prev": "420cceee-c7cc-4dde-b77b-4d6bf28ded1e",
     "regions": {
      "129c42e6-a45d-4260-b9c2-84a67b0cfd9b": {
       "attrs": {
        "height": 0.8,
        "width": 0.8,
        "x": 0.1,
        "y": 0.1
       },
       "content": {
        "cell": "3fc95a38-a226-4e9c-b95f-0f3a991238eb",
        "part": "whole"
       },
       "id": "129c42e6-a45d-4260-b9c2-84a67b0cfd9b"
      }
     }
    },
    "e28e273e-2b4e-4040-8db4-26b1d251ccbb": {
     "id": "e28e273e-2b4e-4040-8db4-26b1d251ccbb",
     "prev": "1b628533-1324-4926-a8b7-29ec28eb6b16",
     "regions": {
      "9ff37f73-1dab-499a-a293-5f208cab7471": {
       "attrs": {
        "height": 0.8,
        "width": 0.8,
        "x": 0.1,
        "y": 0.1
       },
       "content": {
        "cell": "0b50545d-1bf9-4aed-baa5-dc458ce5ae3f",
        "part": "whole"
       },
       "id": "9ff37f73-1dab-499a-a293-5f208cab7471"
      }
     }
    },
    "f05e4ec9-20a4-44f0-a307-41b30f7fd8f3": {
     "id": "f05e4ec9-20a4-44f0-a307-41b30f7fd8f3",
     "prev": null,
     "regions": {
      "a6db9147-cbb9-4161-a6d9-837c701e9f7c": {
       "attrs": {
        "height": 0.8,
        "width": 0.8,
        "x": 0.1,
        "y": 0.1
       },
       "content": {
        "cell": "53edc198-5ce3-4e04-b09e-1ebc8ad02b59",
        "part": "whole"
       },
       "id": "a6db9147-cbb9-4161-a6d9-837c701e9f7c"
      }
     }
    }
   },
   "themes": {}
  }
 },
 "nbformat": 4,
 "nbformat_minor": 2
}
